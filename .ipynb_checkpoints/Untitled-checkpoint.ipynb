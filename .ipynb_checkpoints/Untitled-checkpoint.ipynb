{
 "cells": [
  {
   "cell_type": "code",
   "execution_count": 60,
   "id": "26327fcc",
   "metadata": {},
   "outputs": [],
   "source": [
    "import tensorflow as tf\n",
    "import numpy as np\n",
    "from absl import flags,app\n",
    "import copy"
   ]
  },
  {
   "cell_type": "code",
   "execution_count": 2,
   "id": "db3ea3eb",
   "metadata": {},
   "outputs": [],
   "source": [
    "from invclass.utils import load_data, WindowGenerator"
   ]
  },
  {
   "cell_type": "code",
   "execution_count": 3,
   "id": "1648d403",
   "metadata": {},
   "outputs": [],
   "source": [
    "from invclass.inv_utils import inv_gradient, inv_gradient_ind, set_parameters, save_result, set_bounds, obj_fun"
   ]
  },
  {
   "cell_type": "code",
   "execution_count": 111,
   "id": "15fa23a8",
   "metadata": {},
   "outputs": [],
   "source": [
    "from invclass.proj_simplex import proj_simplex"
   ]
  },
  {
   "cell_type": "code",
   "execution_count": 4,
   "id": "001809bf",
   "metadata": {},
   "outputs": [],
   "source": [
    "FLAGS = flags.FLAGS\n",
    "flags.DEFINE_string('data_path', '', 'Path to the data. Required.')\n",
    "flags.DEFINE_string('data_file', '', 'Name of the file containing the data. Must be \\\n",
    "                   a pickle file. Required.')\n",
    "flags.DEFINE_string('model_file', '', 'File containing inverse class model. Required.')\n",
    "flags.DEFINE_string('ind_model_file', '', 'File containing the ind model. Required.')\n",
    "flags.DEFINE_string('save_file', 'invResult.pkl', 'File name to save results to. Saves to data_path.')\n",
    "flags.DEFINE_float('budget_start',1,'Starting budget for inverse classification. Default: 1')\n",
    "flags.DEFINE_float('budget_end',10, 'Ending budget for inverse classification. Set budget_end =\\\n",
    "                     budget_start if only one budget value is desired. Default: 10')\n",
    "flags.DEFINE_float('budget_interval',1,'Amount by which to increase the budget values from budget_start\\\n",
    "                   to budget_end. Default: 1')\n",
    "flags.DEFINE_integer('max_iters', 50, 'Maximum number of gradient descent iterations. Default: 100')\n",
    "flags.DEFINE_float('grad_tol', .0001, 'Gradient descent stopping criteria (\\epsilon). Default: .0001')\n",
    "flags.DEFINE_float('lam', 10, 'Initial gradient multiplier. Default: 10')\n",
    "flags.DEFINE_integer('input_width', 6, 'Number of time steps of the input window. Default: 6')\n",
    "flags.DEFINE_integer('label_width', 6, 'Number of time steps of the label window. Default: 6')\n",
    "flags.DEFINE_integer('shift', 1, 'Time offset between input window and label window. Default: 1')\n",
    "_ = FLAGS([\"__main__\"])"
   ]
  },
  {
   "cell_type": "code",
   "execution_count": 5,
   "id": "721bfc90",
   "metadata": {},
   "outputs": [],
   "source": [
    "DATA_PATH = './brazil_data/'\n",
    "DATA_FILE = 'processed_brazil.pkl'\n",
    "MODEL_FILE = 'reg_model.h5'\n",
    "IND_MODEL_FILE = 'ind_model.h5'\n",
    "INPUT_WIDTH = 6\n",
    "LABEL_WIDTH = 6\n",
    "SHIFT = 1"
   ]
  },
  {
   "cell_type": "code",
   "execution_count": 6,
   "id": "c3a8d6e5",
   "metadata": {},
   "outputs": [],
   "source": [
    "data_dict = load_data(DATA_PATH, DATA_FILE, file_type='pkl')"
   ]
  },
  {
   "cell_type": "code",
   "execution_count": 7,
   "id": "daa77534",
   "metadata": {},
   "outputs": [],
   "source": [
    "reg_model = tf.keras.models.load_model(DATA_PATH+MODEL_FILE)\n",
    "ind_model = tf.keras.models.load_model(DATA_PATH+IND_MODEL_FILE)"
   ]
  },
  {
   "cell_type": "code",
   "execution_count": 8,
   "id": "aceb677b",
   "metadata": {},
   "outputs": [],
   "source": [
    "inv_data = data_dict['test']\n",
    "X_inv = inv_data['X']\n",
    "X_ids = inv_data['ids']"
   ]
  },
  {
   "cell_type": "code",
   "execution_count": 242,
   "id": "a8f2f549",
   "metadata": {},
   "outputs": [],
   "source": [
    "param_dict = set_parameters(data_dict)"
   ]
  },
  {
   "cell_type": "code",
   "execution_count": 10,
   "id": "7d060f7e",
   "metadata": {},
   "outputs": [],
   "source": [
    "window = WindowGenerator(\n",
    "    input_width = INPUT_WIDTH,\n",
    "    label_width = LABEL_WIDTH,\n",
    "    shift = SHIFT,\n",
    "    data_dict = data_dict\n",
    ")"
   ]
  },
  {
   "cell_type": "code",
   "execution_count": 11,
   "id": "131dbb07",
   "metadata": {},
   "outputs": [],
   "source": [
    "[(inputs, labels)] = window.test"
   ]
  },
  {
   "cell_type": "code",
   "execution_count": 248,
   "id": "10d6d0f1",
   "metadata": {},
   "outputs": [
    {
     "data": {
      "text/plain": [
       "<tf.Tensor: shape=(6, 25), dtype=float64, numpy=\n",
       "array([[ 0.958,  0.341,  0.297,  0.067,  0.75 ,  1.143, -0.23 ,  0.181,\n",
       "         0.135,  0.917,  0.976,  0.227,  0.086, -0.019,  0.033,  0.181,\n",
       "         0.698,  0.   ,  0.124,  0.417,  0.906,  0.137,  0.067,  0.284,\n",
       "         0.604],\n",
       "       [ 0.564,  0.837,  0.343,  0.146,  0.854,  1.145, -0.232,  0.124,\n",
       "         0.135,  0.875,  0.898,  0.08 ,  0.   ,  0.019,  0.016,  0.181,\n",
       "         0.698,  0.   ,  0.143,  0.177,  0.819,  0.137,  0.117,  0.284,\n",
       "         0.604],\n",
       "       [ 0.341,  0.484,  0.427,  0.25 ,  0.933,  1.146, -0.235,  0.133,\n",
       "         0.154,  0.743,  0.661,  0.307,  0.186,  0.302,  0.131,  0.181,\n",
       "         0.698,  0.   ,  0.152,  0.009,  0.601,  0.356,  0.367,  0.284,\n",
       "         0.604],\n",
       "       [ 0.558,  0.595,  0.645,  0.371,  0.983,  1.147, -0.237,  0.181,\n",
       "         0.163,  0.576,  0.583,  0.307,  0.171,  0.321,  0.279,  0.181,\n",
       "         0.698,  0.   ,  0.2  ,  0.402,  0.529,  0.178,  0.333,  0.284,\n",
       "         0.604],\n",
       "       [ 0.391,  0.335,  0.368,  0.5  ,  1.   ,  1.149, -0.239,  0.238,\n",
       "         0.202,  0.479,  0.425,  0.173,  0.157,  0.434,  0.328,  0.181,\n",
       "         0.698,  0.   ,  0.257,  0.402,  0.384,  0.219,  0.483,  0.284,\n",
       "         0.604],\n",
       "       [ 0.525,  0.399,  0.547,  0.629,  0.983,  1.15 , -0.242,  0.295,\n",
       "         0.269,  0.417,  0.425,  0.147,  0.043,  0.434,  0.328,  0.181,\n",
       "         0.698,  0.   ,  0.314,  0.402,  0.449,  0.11 ,  0.367,  0.284,\n",
       "         0.604]])>"
      ]
     },
     "execution_count": 248,
     "metadata": {},
     "output_type": "execute_result"
    }
   ],
   "source": [
    "inputs[1]"
   ]
  },
  {
   "cell_type": "code",
   "execution_count": 194,
   "id": "dd1c8b95",
   "metadata": {},
   "outputs": [],
   "source": [
    "inv_inds = list(range(inputs.shape[0]))"
   ]
  },
  {
   "cell_type": "code",
   "execution_count": 13,
   "id": "0c5c6c43",
   "metadata": {},
   "outputs": [
    {
     "name": "stdout",
     "output_type": "stream",
     "text": [
      "INV_GRADIENT\n"
     ]
    }
   ],
   "source": [
    "grads = inv_gradient(reg_model, inputs, labels)"
   ]
  },
  {
   "cell_type": "code",
   "execution_count": 14,
   "id": "370df8a2",
   "metadata": {},
   "outputs": [],
   "source": [
    "nz_grads = np.nonzero(grads)"
   ]
  },
  {
   "cell_type": "code",
   "execution_count": 15,
   "id": "fba220dd",
   "metadata": {},
   "outputs": [],
   "source": [
    "nz_inds = list(set(nz_grads[0]))"
   ]
  },
  {
   "cell_type": "code",
   "execution_count": 16,
   "id": "7af60fcf",
   "metadata": {},
   "outputs": [
    {
     "name": "stdout",
     "output_type": "stream",
     "text": [
      "Total test instances w/ non-zero grads: 59 out of 59 total instances\n"
     ]
    }
   ],
   "source": [
    "print(\"Total test instances w/ non-zero grads: {}\".format(len(nz_inds)),\n",
    "           \"out of {} total instances\".format(grads.shape[0]))"
   ]
  },
  {
   "cell_type": "code",
   "execution_count": 207,
   "id": "937f9de3",
   "metadata": {},
   "outputs": [],
   "source": [
    "result_dict = {\"budgets\":param_dict['budgets'],'ids':[]}\n",
    "improv_mat = np.zeros((len(inv_inds),len(param_dict['budgets'])+1))"
   ]
  },
  {
   "cell_type": "code",
   "execution_count": 208,
   "id": "dbd69f65",
   "metadata": {},
   "outputs": [],
   "source": [
    "idv = 0"
   ]
  },
  {
   "cell_type": "raw",
   "id": "a851dbba",
   "metadata": {},
   "source": [
    "inv_class(reg_model, ind_model, inputs[idv], labels[idv], param_dict)"
   ]
  },
  {
   "cell_type": "code",
   "execution_count": 19,
   "id": "ffea1a31",
   "metadata": {},
   "outputs": [],
   "source": [
    "inv_inputs = inputs[idv].numpy()\n",
    "inv_labels = labels[idv].numpy()"
   ]
  },
  {
   "cell_type": "code",
   "execution_count": 20,
   "id": "fca3cc5c",
   "metadata": {},
   "outputs": [],
   "source": [
    "budgets = param_dict['budgets']\n",
    "index_dict = param_dict['inds']\n",
    "xU_i = index_dict['xU_ind']\n",
    "xI_i = index_dict['xI_ind']\n",
    "xD_i = index_dict['xD_ind']\n",
    "xD_ii = index_dict['xD_ind_ind']"
   ]
  },
  {
   "cell_type": "code",
   "execution_count": 21,
   "id": "0cb18bc1",
   "metadata": {},
   "outputs": [],
   "source": [
    "xU_xD = np.hstack([inv_inputs[:,xU_i], inv_inputs[:,xD_i]])"
   ]
  },
  {
   "cell_type": "code",
   "execution_count": 22,
   "id": "f54e5425",
   "metadata": {},
   "outputs": [
    {
     "name": "stdout",
     "output_type": "stream",
     "text": [
      "1/1 [==============================] - 0s 68ms/step\n"
     ]
    }
   ],
   "source": [
    "xI_est = ind_model.predict(xU_xD)"
   ]
  },
  {
   "cell_type": "code",
   "execution_count": 23,
   "id": "e9d160d3",
   "metadata": {},
   "outputs": [],
   "source": [
    "x_init = np.array([ np.hstack([inv_inputs[:,xU_i], xI_est, inv_inputs[:,xD_i]]) ])"
   ]
  },
  {
   "cell_type": "code",
   "execution_count": 25,
   "id": "44865f92",
   "metadata": {},
   "outputs": [
    {
     "name": "stdout",
     "output_type": "stream",
     "text": [
      "1/1 [==============================] - 0s 437ms/step\n"
     ]
    }
   ],
   "source": [
    "y_hat_init = reg_model.predict(x_init)[0]"
   ]
  },
  {
   "cell_type": "code",
   "execution_count": 28,
   "id": "ae0527ff",
   "metadata": {},
   "outputs": [],
   "source": [
    "obj_val_init = obj_fun(reg_model, x_init, inv_labels)"
   ]
  },
  {
   "cell_type": "code",
   "execution_count": 29,
   "id": "bedc5f56",
   "metadata": {},
   "outputs": [],
   "source": [
    "xD_opt_mat = np.zeros((len(budgets)+1, inv_inputs.shape[0], len(xD_i)), dtype=np.float32)\n",
    "xI_opt_mat = np.zeros((len(budgets)+1, inv_inputs.shape[0], len(xI_i)), dtype=np.float32)\n",
    "opt_obj_vect = np.zeros((len(budgets)+1), dtype=np.float32)"
   ]
  },
  {
   "cell_type": "code",
   "execution_count": 30,
   "id": "bd1b2f7b",
   "metadata": {},
   "outputs": [],
   "source": [
    "xD_opt_mat[0] = inv_inputs[:,xD_i]\n",
    "xI_opt_mat[0] = xI_est\n",
    "opt_obj_vect[0] = obj_val_init"
   ]
  },
  {
   "cell_type": "code",
   "execution_count": 31,
   "id": "19f69c37",
   "metadata": {},
   "outputs": [
    {
     "name": "stdout",
     "output_type": "stream",
     "text": [
      "INV_GRADIENT\n",
      "INV_GRADIENT_IND\n"
     ]
    }
   ],
   "source": [
    "reg_grad_full = inv_gradient(reg_model, x_init, inv_labels)[0]\n",
    "ind_grad_full = inv_gradient_ind(ind_model, xU_xD, num_loss=len(xI_i))"
   ]
  },
  {
   "cell_type": "code",
   "execution_count": 33,
   "id": "a9fe4949",
   "metadata": {},
   "outputs": [],
   "source": [
    "xD_grad = reg_grad_full[:,xD_i]\n",
    "xI_grad = reg_grad_full[:,xI_i]\n",
    "xD_ind_grad = ind_grad_full[:,xD_ii]"
   ]
  },
  {
   "cell_type": "markdown",
   "id": "0948057b",
   "metadata": {},
   "source": [
    "Convert to np.float16 because np.float32 breaks np.matmul"
   ]
  },
  {
   "cell_type": "code",
   "execution_count": 34,
   "id": "de9f341c",
   "metadata": {},
   "outputs": [],
   "source": [
    "xD_grad = xD_grad.astype(np.float16)\n",
    "xI_grad = xI_grad.astype(np.float16)\n",
    "xD_ind_grad = xD_ind_grad.astype(np.float16)"
   ]
  },
  {
   "cell_type": "code",
   "execution_count": 35,
   "id": "442001be",
   "metadata": {},
   "outputs": [],
   "source": [
    "opt_grad = xD_grad + np.matmul(xI_grad, xD_ind_grad)"
   ]
  },
  {
   "cell_type": "code",
   "execution_count": 37,
   "id": "37c1f9b5",
   "metadata": {},
   "outputs": [],
   "source": [
    "d, c, l, u = set_bounds(inv_inputs, -1*opt_grad, param_dict)"
   ]
  },
  {
   "cell_type": "code",
   "execution_count": 65,
   "id": "7e330447",
   "metadata": {},
   "outputs": [],
   "source": [
    "bud_iter = 1"
   ]
  },
  {
   "cell_type": "code",
   "execution_count": 66,
   "id": "70b37f01",
   "metadata": {},
   "outputs": [],
   "source": [
    "b = budgets[0]"
   ]
  },
  {
   "cell_type": "code",
   "execution_count": 67,
   "id": "6f997949",
   "metadata": {},
   "outputs": [],
   "source": [
    "bud_iter += 1"
   ]
  },
  {
   "cell_type": "code",
   "execution_count": 68,
   "id": "0a42a3e9",
   "metadata": {},
   "outputs": [],
   "source": [
    "diff = np.inf\n",
    "tot_iters = 0"
   ]
  },
  {
   "cell_type": "code",
   "execution_count": 73,
   "id": "15920d5f",
   "metadata": {},
   "outputs": [],
   "source": [
    "if bud_iter == 1:\n",
    "    prev_xD = copy.deepcopy(inv_inputs[:,xD_i])\n",
    "    prev_xI = xI_est\n",
    "else:\n",
    "    prev_xD = xD_opt_mat[0]\n",
    "    prev_xI = xI_opt_mat[0]"
   ]
  },
  {
   "cell_type": "code",
   "execution_count": 78,
   "id": "c806e7e4",
   "metadata": {},
   "outputs": [],
   "source": [
    "opt_xD = copy.deepcopy(prev_xD)"
   ]
  },
  {
   "cell_type": "code",
   "execution_count": 83,
   "id": "71dbfb63",
   "metadata": {},
   "outputs": [],
   "source": [
    "full_opt_x = np.array([ np.hstack([inv_inputs[:,xU_i], prev_xI, opt_xD]) ])\n",
    "xU_xD_opt = np.hstack([inv_inputs[:,xU_i], opt_xD])"
   ]
  },
  {
   "cell_type": "code",
   "execution_count": 86,
   "id": "acc43136",
   "metadata": {},
   "outputs": [],
   "source": [
    "gStep = FLAGS.lam"
   ]
  },
  {
   "cell_type": "code",
   "execution_count": 89,
   "id": "609c044a",
   "metadata": {},
   "outputs": [],
   "source": [
    "obj_vect = [opt_obj_vect[0]]"
   ]
  },
  {
   "cell_type": "code",
   "execution_count": 99,
   "id": "41bf5f7a",
   "metadata": {},
   "outputs": [
    {
     "name": "stdout",
     "output_type": "stream",
     "text": [
      "INV_GRADIENT\n",
      "INV_GRADIENT_IND\n"
     ]
    }
   ],
   "source": [
    "reg_grad_full = inv_gradient(reg_model, full_opt_x, inv_labels)[0]\n",
    "ind_grad_full = inv_gradient_ind(ind_model, xU_xD_opt, num_loss=len(xI_i))"
   ]
  },
  {
   "cell_type": "code",
   "execution_count": 100,
   "id": "88419ab8",
   "metadata": {},
   "outputs": [],
   "source": [
    "xD_grad = reg_grad_full[:,xD_i]\n",
    "xI_grad = reg_grad_full[:,xI_i]\n",
    "xD_ind_grad = ind_grad_full[:,xD_ii]"
   ]
  },
  {
   "cell_type": "code",
   "execution_count": 101,
   "id": "30d57d0f",
   "metadata": {},
   "outputs": [],
   "source": [
    "xD_grad = xD_grad.astype(np.float16)\n",
    "xI_grad = xI_grad.astype(np.float16)\n",
    "xD_ind_grad = xD_ind_grad.astype(np.float16)"
   ]
  },
  {
   "cell_type": "code",
   "execution_count": 102,
   "id": "d0c188cf",
   "metadata": {},
   "outputs": [],
   "source": [
    "opt_grad = xD_grad + np.matmul(xI_grad,xD_ind_grad)"
   ]
  },
  {
   "cell_type": "code",
   "execution_count": 103,
   "id": "e456659b",
   "metadata": {},
   "outputs": [],
   "source": [
    "temp_opt_xD = opt_xD - 1/gStep*opt_grad"
   ]
  },
  {
   "cell_type": "code",
   "execution_count": 104,
   "id": "8ef9421c",
   "metadata": {},
   "outputs": [],
   "source": [
    "temp_opt_xD_diff = np.multiply(d,temp_opt_xD - prev_xD)"
   ]
  },
  {
   "cell_type": "code",
   "execution_count": 120,
   "id": "4d18f65a",
   "metadata": {},
   "outputs": [],
   "source": [
    "proj_xD_diff = []\n",
    "\n",
    "for r_temp_opt_xD_diff, r_c, r_l, r_u in zip(temp_opt_xD_diff,c,l,u):\n",
    "    proj_xD_diff.append( proj_simplex(r_temp_opt_xD_diff,b,r_c,r_l,r_u) )\n",
    "\n",
    "proj_xD_diff = np.array(proj_xD_diff)"
   ]
  },
  {
   "cell_type": "code",
   "execution_count": 121,
   "id": "64cc1594",
   "metadata": {},
   "outputs": [],
   "source": [
    "proj_xD_diff = np.multiply(d,proj_xD_diff)"
   ]
  },
  {
   "cell_type": "code",
   "execution_count": 122,
   "id": "a0b49044",
   "metadata": {},
   "outputs": [],
   "source": [
    "opt_xD = prev_xD + proj_xD_diff"
   ]
  },
  {
   "cell_type": "code",
   "execution_count": 123,
   "id": "babf89af",
   "metadata": {},
   "outputs": [
    {
     "name": "stdout",
     "output_type": "stream",
     "text": [
      "1/1 [==============================] - 0s 18ms/step\n"
     ]
    }
   ],
   "source": [
    "xU_xD_opt = np.hstack([inv_inputs[:,xU_i], opt_xD])\n",
    "xI_est = ind_model.predict(xU_xD_opt)"
   ]
  },
  {
   "cell_type": "code",
   "execution_count": 128,
   "id": "d2cf0d54",
   "metadata": {},
   "outputs": [],
   "source": [
    "full_opt_x = np.array([ np.hstack([inv_inputs[:,xU_i], xI_est, opt_xD]) ])"
   ]
  },
  {
   "cell_type": "code",
   "execution_count": 131,
   "id": "f4c3f4f8",
   "metadata": {},
   "outputs": [],
   "source": [
    "cObj = obj_fun(reg_model, full_opt_x, inv_labels)"
   ]
  },
  {
   "cell_type": "code",
   "execution_count": 141,
   "id": "3a0f3677",
   "metadata": {},
   "outputs": [],
   "source": [
    "gStep *= 2"
   ]
  },
  {
   "cell_type": "code",
   "execution_count": 145,
   "id": "ad5b00f7",
   "metadata": {},
   "outputs": [
    {
     "name": "stdout",
     "output_type": "stream",
     "text": [
      "INV_GRADIENT\n",
      "INV_GRADIENT_IND\n"
     ]
    }
   ],
   "source": [
    "reg_grad_full = inv_gradient(reg_model, full_opt_x, inv_labels)[0]\n",
    "ind_grad_full = inv_gradient_ind(ind_model, xU_xD_opt, num_loss=len(xI_i))"
   ]
  },
  {
   "cell_type": "code",
   "execution_count": 146,
   "id": "e2572402",
   "metadata": {},
   "outputs": [],
   "source": [
    "xD_grad = reg_grad_full[:,xD_i]\n",
    "xI_grad = reg_grad_full[:,xI_i]\n",
    "xD_ind_grad = ind_grad_full[:,xD_ii]"
   ]
  },
  {
   "cell_type": "code",
   "execution_count": 147,
   "id": "c45662c1",
   "metadata": {},
   "outputs": [],
   "source": [
    "xD_grad = xD_grad.astype(np.float16)\n",
    "xI_grad = xI_grad.astype(np.float16)\n",
    "xD_ind_grad = xD_ind_grad.astype(np.float16)"
   ]
  },
  {
   "cell_type": "code",
   "execution_count": 148,
   "id": "3cc4eedf",
   "metadata": {},
   "outputs": [],
   "source": [
    "opt_grad = xD_grad + np.matmul(xI_grad,xD_ind_grad)"
   ]
  },
  {
   "cell_type": "code",
   "execution_count": 149,
   "id": "f301b4be",
   "metadata": {},
   "outputs": [],
   "source": [
    "temp_opt_xD = opt_xD - 1/gStep*opt_grad\n",
    "temp_opt_xD_diff = np.multiply(d,temp_opt_xD - prev_xD)"
   ]
  },
  {
   "cell_type": "code",
   "execution_count": 150,
   "id": "299f885d",
   "metadata": {},
   "outputs": [],
   "source": [
    "proj_xD_diff = []\n",
    "\n",
    "for r_temp_opt_xD_diff, r_c, r_l, r_u in zip(temp_opt_xD_diff,c,l,u):\n",
    "    proj_xD_diff.append( proj_simplex(r_temp_opt_xD_diff,b,r_c,r_l,r_u) )\n",
    "\n",
    "proj_xD_diff = np.array(proj_xD_diff)"
   ]
  },
  {
   "cell_type": "code",
   "execution_count": 151,
   "id": "5fd7dc75",
   "metadata": {},
   "outputs": [],
   "source": [
    "proj_xD_diff = np.multiply(d,proj_xD_diff)"
   ]
  },
  {
   "cell_type": "code",
   "execution_count": 152,
   "id": "59be4dab",
   "metadata": {},
   "outputs": [],
   "source": [
    "opt_xD = prev_xD + proj_xD_diff"
   ]
  },
  {
   "cell_type": "code",
   "execution_count": 153,
   "id": "020ed2f7",
   "metadata": {},
   "outputs": [
    {
     "name": "stdout",
     "output_type": "stream",
     "text": [
      "1/1 [==============================] - 0s 16ms/step\n"
     ]
    }
   ],
   "source": [
    "xU_xD_opt = np.hstack([inv_inputs[:,xU_i], opt_xD])\n",
    "xI_est = ind_model.predict(xU_xD_opt)"
   ]
  },
  {
   "cell_type": "code",
   "execution_count": 154,
   "id": "11271724",
   "metadata": {},
   "outputs": [],
   "source": [
    "full_opt_x = np.array([ np.hstack([inv_inputs[:,xU_i], xI_est, opt_xD]) ])"
   ]
  },
  {
   "cell_type": "code",
   "execution_count": 158,
   "id": "4b8b3999",
   "metadata": {},
   "outputs": [],
   "source": [
    "cObj = obj_fun(reg_model, full_opt_x, inv_labels).numpy()"
   ]
  },
  {
   "cell_type": "code",
   "execution_count": 159,
   "id": "863f04b6",
   "metadata": {},
   "outputs": [],
   "source": [
    "obj_vect.append(cObj)"
   ]
  },
  {
   "cell_type": "code",
   "execution_count": 163,
   "id": "df6f210c",
   "metadata": {},
   "outputs": [],
   "source": [
    "diff = (obj_vect[-2]-obj_vect[-1])/obj_vect[-2]"
   ]
  },
  {
   "cell_type": "code",
   "execution_count": 165,
   "id": "14b937d9",
   "metadata": {},
   "outputs": [],
   "source": [
    "gStep = gStep/1.5"
   ]
  },
  {
   "cell_type": "code",
   "execution_count": 172,
   "id": "91c5a33e",
   "metadata": {},
   "outputs": [],
   "source": [
    "xD_opt_mat[bud_iter] = opt_xD\n",
    "xI_opt_mat[bud_iter] = xI_est"
   ]
  },
  {
   "cell_type": "code",
   "execution_count": 175,
   "id": "1062ab2f",
   "metadata": {},
   "outputs": [],
   "source": [
    "if obj_vect[-1] > obj_vect[-2]:\n",
    "    opt_obj_vect[bud_iter] = obj_vect[-2]\n",
    "else:\n",
    "    opt_obj_vect[bud_iter] = obj_vect[-1]"
   ]
  },
  {
   "cell_type": "code",
   "execution_count": 176,
   "id": "ca75fab4",
   "metadata": {},
   "outputs": [
    {
     "data": {
      "text/plain": [
       "array([0.9861606, 0.       , 0.9774654, 0.       , 0.       , 0.       ,\n",
       "       0.       , 0.       , 0.       , 0.       , 0.       ],\n",
       "      dtype=float32)"
      ]
     },
     "execution_count": 176,
     "metadata": {},
     "output_type": "execute_result"
    }
   ],
   "source": [
    "opt_obj_vect"
   ]
  },
  {
   "cell_type": "code",
   "execution_count": 214,
   "id": "a87711d0",
   "metadata": {},
   "outputs": [],
   "source": [
    "return_dict={\n",
    "    \"obj\":opt_obj_vect,\n",
    "    \"xD\":xD_opt_mat,\n",
    "    \"xI\":xI_opt_mat,\n",
    "}"
   ]
  },
  {
   "cell_type": "code",
   "execution_count": 215,
   "id": "a5e3d73d",
   "metadata": {},
   "outputs": [],
   "source": [
    "inv_dat = return_dict"
   ]
  },
  {
   "cell_type": "code",
   "execution_count": 216,
   "id": "8539f63f",
   "metadata": {},
   "outputs": [],
   "source": [
    "result_dict['ids'].append(X_ids[idv])\n",
    "result_dict[X_ids[idv]] = inv_dat"
   ]
  },
  {
   "cell_type": "code",
   "execution_count": 218,
   "id": "98b33024",
   "metadata": {},
   "outputs": [],
   "source": [
    "improv_mat[idv] = inv_dat['obj']"
   ]
  },
  {
   "cell_type": "code",
   "execution_count": 217,
   "id": "d9d14744",
   "metadata": {},
   "outputs": [
    {
     "data": {
      "text/plain": [
       "{'budgets': [1.0, 2.0, 3.0, 4.0, 5.0, 6.0, 7.0, 8.0, 9.0, 10.0],\n",
       " 'ids': [586],\n",
       " 586: {'obj': array([0.9861606, 0.       , 0.9774654, 0.       , 0.       , 0.       ,\n",
       "         0.       , 0.       , 0.       , 0.       , 0.       ],\n",
       "        dtype=float32),\n",
       "  'xD': array([[[0.        , 0.53333336, 0.402311  , 0.442029  , 0.8630137 ,\n",
       "           0.8       , 0.28377885, 0.60373044],\n",
       "          [0.        , 0.5714286 , 0.402311  , 0.33333334, 0.7671233 ,\n",
       "           0.8666667 , 0.28377885, 0.60373044],\n",
       "          [0.        , 0.552381  , 0.402311  , 0.29710144, 0.72602737,\n",
       "           0.9       , 0.28377885, 0.60373044],\n",
       "          [0.        , 0.52380955, 0.402311  , 0.26811594, 0.7123288 ,\n",
       "           0.9166667 , 0.28377885, 0.60373044],\n",
       "          [0.        , 0.50476193, 0.402311  , 0.21014492, 0.65753424,\n",
       "           0.96666664, 0.28377885, 0.60373044],\n",
       "          [0.        , 0.45714286, 0.402311  , 0.20289855, 0.6438356 ,\n",
       "           0.96666664, 0.28377885, 0.60373044]],\n",
       "  \n",
       "         [[0.        , 0.        , 0.        , 0.        , 0.        ,\n",
       "           0.        , 0.        , 0.        ],\n",
       "          [0.        , 0.        , 0.        , 0.        , 0.        ,\n",
       "           0.        , 0.        , 0.        ],\n",
       "          [0.        , 0.        , 0.        , 0.        , 0.        ,\n",
       "           0.        , 0.        , 0.        ],\n",
       "          [0.        , 0.        , 0.        , 0.        , 0.        ,\n",
       "           0.        , 0.        , 0.        ],\n",
       "          [0.        , 0.        , 0.        , 0.        , 0.        ,\n",
       "           0.        , 0.        , 0.        ],\n",
       "          [0.        , 0.        , 0.        , 0.        , 0.        ,\n",
       "           0.        , 0.        , 0.        ]],\n",
       "  \n",
       "         [[0.        , 0.53333336, 0.402311  , 0.45747852, 0.8630137 ,\n",
       "           0.8       , 0.29864854, 0.6152775 ],\n",
       "          [0.        , 0.5714286 , 0.402311  , 0.34664664, 0.7671233 ,\n",
       "           0.8666667 , 0.29213494, 0.60990834],\n",
       "          [0.        , 0.552381  , 0.402311  , 0.30699104, 0.72602737,\n",
       "           0.9       , 0.2889821 , 0.6076577 ],\n",
       "          [0.        , 0.52380955, 0.402311  , 0.2707638 , 0.7123288 ,\n",
       "           0.9166667 , 0.28645486, 0.607836  ],\n",
       "          [0.        , 0.50476193, 0.402311  , 0.21511452, 0.65753424,\n",
       "           0.96666664, 0.28730458, 0.6098397 ],\n",
       "          [0.        , 0.45714286, 0.40556875, 0.2144876 , 0.6438356 ,\n",
       "           0.96347946, 0.2884547 , 0.60721326]],\n",
       "  \n",
       "         [[0.        , 0.        , 0.        , 0.        , 0.        ,\n",
       "           0.        , 0.        , 0.        ],\n",
       "          [0.        , 0.        , 0.        , 0.        , 0.        ,\n",
       "           0.        , 0.        , 0.        ],\n",
       "          [0.        , 0.        , 0.        , 0.        , 0.        ,\n",
       "           0.        , 0.        , 0.        ],\n",
       "          [0.        , 0.        , 0.        , 0.        , 0.        ,\n",
       "           0.        , 0.        , 0.        ],\n",
       "          [0.        , 0.        , 0.        , 0.        , 0.        ,\n",
       "           0.        , 0.        , 0.        ],\n",
       "          [0.        , 0.        , 0.        , 0.        , 0.        ,\n",
       "           0.        , 0.        , 0.        ]],\n",
       "  \n",
       "         [[0.        , 0.        , 0.        , 0.        , 0.        ,\n",
       "           0.        , 0.        , 0.        ],\n",
       "          [0.        , 0.        , 0.        , 0.        , 0.        ,\n",
       "           0.        , 0.        , 0.        ],\n",
       "          [0.        , 0.        , 0.        , 0.        , 0.        ,\n",
       "           0.        , 0.        , 0.        ],\n",
       "          [0.        , 0.        , 0.        , 0.        , 0.        ,\n",
       "           0.        , 0.        , 0.        ],\n",
       "          [0.        , 0.        , 0.        , 0.        , 0.        ,\n",
       "           0.        , 0.        , 0.        ],\n",
       "          [0.        , 0.        , 0.        , 0.        , 0.        ,\n",
       "           0.        , 0.        , 0.        ]],\n",
       "  \n",
       "         [[0.        , 0.        , 0.        , 0.        , 0.        ,\n",
       "           0.        , 0.        , 0.        ],\n",
       "          [0.        , 0.        , 0.        , 0.        , 0.        ,\n",
       "           0.        , 0.        , 0.        ],\n",
       "          [0.        , 0.        , 0.        , 0.        , 0.        ,\n",
       "           0.        , 0.        , 0.        ],\n",
       "          [0.        , 0.        , 0.        , 0.        , 0.        ,\n",
       "           0.        , 0.        , 0.        ],\n",
       "          [0.        , 0.        , 0.        , 0.        , 0.        ,\n",
       "           0.        , 0.        , 0.        ],\n",
       "          [0.        , 0.        , 0.        , 0.        , 0.        ,\n",
       "           0.        , 0.        , 0.        ]],\n",
       "  \n",
       "         [[0.        , 0.        , 0.        , 0.        , 0.        ,\n",
       "           0.        , 0.        , 0.        ],\n",
       "          [0.        , 0.        , 0.        , 0.        , 0.        ,\n",
       "           0.        , 0.        , 0.        ],\n",
       "          [0.        , 0.        , 0.        , 0.        , 0.        ,\n",
       "           0.        , 0.        , 0.        ],\n",
       "          [0.        , 0.        , 0.        , 0.        , 0.        ,\n",
       "           0.        , 0.        , 0.        ],\n",
       "          [0.        , 0.        , 0.        , 0.        , 0.        ,\n",
       "           0.        , 0.        , 0.        ],\n",
       "          [0.        , 0.        , 0.        , 0.        , 0.        ,\n",
       "           0.        , 0.        , 0.        ]],\n",
       "  \n",
       "         [[0.        , 0.        , 0.        , 0.        , 0.        ,\n",
       "           0.        , 0.        , 0.        ],\n",
       "          [0.        , 0.        , 0.        , 0.        , 0.        ,\n",
       "           0.        , 0.        , 0.        ],\n",
       "          [0.        , 0.        , 0.        , 0.        , 0.        ,\n",
       "           0.        , 0.        , 0.        ],\n",
       "          [0.        , 0.        , 0.        , 0.        , 0.        ,\n",
       "           0.        , 0.        , 0.        ],\n",
       "          [0.        , 0.        , 0.        , 0.        , 0.        ,\n",
       "           0.        , 0.        , 0.        ],\n",
       "          [0.        , 0.        , 0.        , 0.        , 0.        ,\n",
       "           0.        , 0.        , 0.        ]],\n",
       "  \n",
       "         [[0.        , 0.        , 0.        , 0.        , 0.        ,\n",
       "           0.        , 0.        , 0.        ],\n",
       "          [0.        , 0.        , 0.        , 0.        , 0.        ,\n",
       "           0.        , 0.        , 0.        ],\n",
       "          [0.        , 0.        , 0.        , 0.        , 0.        ,\n",
       "           0.        , 0.        , 0.        ],\n",
       "          [0.        , 0.        , 0.        , 0.        , 0.        ,\n",
       "           0.        , 0.        , 0.        ],\n",
       "          [0.        , 0.        , 0.        , 0.        , 0.        ,\n",
       "           0.        , 0.        , 0.        ],\n",
       "          [0.        , 0.        , 0.        , 0.        , 0.        ,\n",
       "           0.        , 0.        , 0.        ]],\n",
       "  \n",
       "         [[0.        , 0.        , 0.        , 0.        , 0.        ,\n",
       "           0.        , 0.        , 0.        ],\n",
       "          [0.        , 0.        , 0.        , 0.        , 0.        ,\n",
       "           0.        , 0.        , 0.        ],\n",
       "          [0.        , 0.        , 0.        , 0.        , 0.        ,\n",
       "           0.        , 0.        , 0.        ],\n",
       "          [0.        , 0.        , 0.        , 0.        , 0.        ,\n",
       "           0.        , 0.        , 0.        ],\n",
       "          [0.        , 0.        , 0.        , 0.        , 0.        ,\n",
       "           0.        , 0.        , 0.        ],\n",
       "          [0.        , 0.        , 0.        , 0.        , 0.        ,\n",
       "           0.        , 0.        , 0.        ]],\n",
       "  \n",
       "         [[0.        , 0.        , 0.        , 0.        , 0.        ,\n",
       "           0.        , 0.        , 0.        ],\n",
       "          [0.        , 0.        , 0.        , 0.        , 0.        ,\n",
       "           0.        , 0.        , 0.        ],\n",
       "          [0.        , 0.        , 0.        , 0.        , 0.        ,\n",
       "           0.        , 0.        , 0.        ],\n",
       "          [0.        , 0.        , 0.        , 0.        , 0.        ,\n",
       "           0.        , 0.        , 0.        ],\n",
       "          [0.        , 0.        , 0.        , 0.        , 0.        ,\n",
       "           0.        , 0.        , 0.        ],\n",
       "          [0.        , 0.        , 0.        , 0.        , 0.        ,\n",
       "           0.        , 0.        , 0.        ]]], dtype=float32),\n",
       "  'xI': array([[[0.45342273, 0.        , 0.31821606, 0.26300862, 0.        ,\n",
       "           0.55433184, 0.7713607 , 0.8090217 , 0.3506297 , 0.7486516 ],\n",
       "          [0.363553  , 0.        , 0.23981406, 0.18122262, 0.        ,\n",
       "           0.5720043 , 0.79920495, 0.9278206 , 0.34913534, 0.78169024],\n",
       "          [0.4148156 , 0.        , 0.24488425, 0.21347947, 0.        ,\n",
       "           0.6001593 , 0.821585  , 0.9433388 , 0.3548951 , 0.7994628 ],\n",
       "          [0.5107731 , 0.        , 0.3107959 , 0.28099373, 0.        ,\n",
       "           0.6055587 , 0.837968  , 0.8908922 , 0.3683114 , 0.804356  ],\n",
       "          [0.36271513, 0.        , 0.3783194 , 0.15782608, 0.        ,\n",
       "           0.49034846, 0.86459416, 0.8819317 , 0.4059464 , 0.817719  ],\n",
       "          [0.42919648, 0.        , 0.2361214 , 0.21007098, 0.        ,\n",
       "           0.62165445, 0.85662615, 0.99275094, 0.36347783, 0.8295182 ]],\n",
       "  \n",
       "         [[0.        , 0.        , 0.        , 0.        , 0.        ,\n",
       "           0.        , 0.        , 0.        , 0.        , 0.        ],\n",
       "          [0.        , 0.        , 0.        , 0.        , 0.        ,\n",
       "           0.        , 0.        , 0.        , 0.        , 0.        ],\n",
       "          [0.        , 0.        , 0.        , 0.        , 0.        ,\n",
       "           0.        , 0.        , 0.        , 0.        , 0.        ],\n",
       "          [0.        , 0.        , 0.        , 0.        , 0.        ,\n",
       "           0.        , 0.        , 0.        , 0.        , 0.        ],\n",
       "          [0.        , 0.        , 0.        , 0.        , 0.        ,\n",
       "           0.        , 0.        , 0.        , 0.        , 0.        ],\n",
       "          [0.        , 0.        , 0.        , 0.        , 0.        ,\n",
       "           0.        , 0.        , 0.        , 0.        , 0.        ]],\n",
       "  \n",
       "         [[0.45746237, 0.        , 0.3210108 , 0.26670593, 0.        ,\n",
       "           0.5569711 , 0.77739793, 0.81225085, 0.35467544, 0.75328565],\n",
       "          [0.36693215, 0.        , 0.24157783, 0.18438368, 0.        ,\n",
       "           0.57336754, 0.803768  , 0.92978203, 0.3514268 , 0.78540885],\n",
       "          [0.41716486, 0.        , 0.24634069, 0.21552847, 0.        ,\n",
       "           0.60093284, 0.8246476 , 0.9444904 , 0.3564585 , 0.80191255],\n",
       "          [0.5113544 , 0.        , 0.31095856, 0.28154552, 0.        ,\n",
       "           0.6063828 , 0.8395196 , 0.89230436, 0.3692325 , 0.80561924],\n",
       "          [0.3636709 , 0.        , 0.37876585, 0.15859845, 0.        ,\n",
       "           0.49147075, 0.86699486, 0.88398385, 0.4073478 , 0.81964684],\n",
       "          [0.43159294, 0.        , 0.23886135, 0.21187177, 0.        ,\n",
       "           0.62131894, 0.8576621 , 0.9910936 , 0.36449313, 0.83001566]],\n",
       "  \n",
       "         [[0.        , 0.        , 0.        , 0.        , 0.        ,\n",
       "           0.        , 0.        , 0.        , 0.        , 0.        ],\n",
       "          [0.        , 0.        , 0.        , 0.        , 0.        ,\n",
       "           0.        , 0.        , 0.        , 0.        , 0.        ],\n",
       "          [0.        , 0.        , 0.        , 0.        , 0.        ,\n",
       "           0.        , 0.        , 0.        , 0.        , 0.        ],\n",
       "          [0.        , 0.        , 0.        , 0.        , 0.        ,\n",
       "           0.        , 0.        , 0.        , 0.        , 0.        ],\n",
       "          [0.        , 0.        , 0.        , 0.        , 0.        ,\n",
       "           0.        , 0.        , 0.        , 0.        , 0.        ],\n",
       "          [0.        , 0.        , 0.        , 0.        , 0.        ,\n",
       "           0.        , 0.        , 0.        , 0.        , 0.        ]],\n",
       "  \n",
       "         [[0.        , 0.        , 0.        , 0.        , 0.        ,\n",
       "           0.        , 0.        , 0.        , 0.        , 0.        ],\n",
       "          [0.        , 0.        , 0.        , 0.        , 0.        ,\n",
       "           0.        , 0.        , 0.        , 0.        , 0.        ],\n",
       "          [0.        , 0.        , 0.        , 0.        , 0.        ,\n",
       "           0.        , 0.        , 0.        , 0.        , 0.        ],\n",
       "          [0.        , 0.        , 0.        , 0.        , 0.        ,\n",
       "           0.        , 0.        , 0.        , 0.        , 0.        ],\n",
       "          [0.        , 0.        , 0.        , 0.        , 0.        ,\n",
       "           0.        , 0.        , 0.        , 0.        , 0.        ],\n",
       "          [0.        , 0.        , 0.        , 0.        , 0.        ,\n",
       "           0.        , 0.        , 0.        , 0.        , 0.        ]],\n",
       "  \n",
       "         [[0.        , 0.        , 0.        , 0.        , 0.        ,\n",
       "           0.        , 0.        , 0.        , 0.        , 0.        ],\n",
       "          [0.        , 0.        , 0.        , 0.        , 0.        ,\n",
       "           0.        , 0.        , 0.        , 0.        , 0.        ],\n",
       "          [0.        , 0.        , 0.        , 0.        , 0.        ,\n",
       "           0.        , 0.        , 0.        , 0.        , 0.        ],\n",
       "          [0.        , 0.        , 0.        , 0.        , 0.        ,\n",
       "           0.        , 0.        , 0.        , 0.        , 0.        ],\n",
       "          [0.        , 0.        , 0.        , 0.        , 0.        ,\n",
       "           0.        , 0.        , 0.        , 0.        , 0.        ],\n",
       "          [0.        , 0.        , 0.        , 0.        , 0.        ,\n",
       "           0.        , 0.        , 0.        , 0.        , 0.        ]],\n",
       "  \n",
       "         [[0.        , 0.        , 0.        , 0.        , 0.        ,\n",
       "           0.        , 0.        , 0.        , 0.        , 0.        ],\n",
       "          [0.        , 0.        , 0.        , 0.        , 0.        ,\n",
       "           0.        , 0.        , 0.        , 0.        , 0.        ],\n",
       "          [0.        , 0.        , 0.        , 0.        , 0.        ,\n",
       "           0.        , 0.        , 0.        , 0.        , 0.        ],\n",
       "          [0.        , 0.        , 0.        , 0.        , 0.        ,\n",
       "           0.        , 0.        , 0.        , 0.        , 0.        ],\n",
       "          [0.        , 0.        , 0.        , 0.        , 0.        ,\n",
       "           0.        , 0.        , 0.        , 0.        , 0.        ],\n",
       "          [0.        , 0.        , 0.        , 0.        , 0.        ,\n",
       "           0.        , 0.        , 0.        , 0.        , 0.        ]],\n",
       "  \n",
       "         [[0.        , 0.        , 0.        , 0.        , 0.        ,\n",
       "           0.        , 0.        , 0.        , 0.        , 0.        ],\n",
       "          [0.        , 0.        , 0.        , 0.        , 0.        ,\n",
       "           0.        , 0.        , 0.        , 0.        , 0.        ],\n",
       "          [0.        , 0.        , 0.        , 0.        , 0.        ,\n",
       "           0.        , 0.        , 0.        , 0.        , 0.        ],\n",
       "          [0.        , 0.        , 0.        , 0.        , 0.        ,\n",
       "           0.        , 0.        , 0.        , 0.        , 0.        ],\n",
       "          [0.        , 0.        , 0.        , 0.        , 0.        ,\n",
       "           0.        , 0.        , 0.        , 0.        , 0.        ],\n",
       "          [0.        , 0.        , 0.        , 0.        , 0.        ,\n",
       "           0.        , 0.        , 0.        , 0.        , 0.        ]],\n",
       "  \n",
       "         [[0.        , 0.        , 0.        , 0.        , 0.        ,\n",
       "           0.        , 0.        , 0.        , 0.        , 0.        ],\n",
       "          [0.        , 0.        , 0.        , 0.        , 0.        ,\n",
       "           0.        , 0.        , 0.        , 0.        , 0.        ],\n",
       "          [0.        , 0.        , 0.        , 0.        , 0.        ,\n",
       "           0.        , 0.        , 0.        , 0.        , 0.        ],\n",
       "          [0.        , 0.        , 0.        , 0.        , 0.        ,\n",
       "           0.        , 0.        , 0.        , 0.        , 0.        ],\n",
       "          [0.        , 0.        , 0.        , 0.        , 0.        ,\n",
       "           0.        , 0.        , 0.        , 0.        , 0.        ],\n",
       "          [0.        , 0.        , 0.        , 0.        , 0.        ,\n",
       "           0.        , 0.        , 0.        , 0.        , 0.        ]],\n",
       "  \n",
       "         [[0.        , 0.        , 0.        , 0.        , 0.        ,\n",
       "           0.        , 0.        , 0.        , 0.        , 0.        ],\n",
       "          [0.        , 0.        , 0.        , 0.        , 0.        ,\n",
       "           0.        , 0.        , 0.        , 0.        , 0.        ],\n",
       "          [0.        , 0.        , 0.        , 0.        , 0.        ,\n",
       "           0.        , 0.        , 0.        , 0.        , 0.        ],\n",
       "          [0.        , 0.        , 0.        , 0.        , 0.        ,\n",
       "           0.        , 0.        , 0.        , 0.        , 0.        ],\n",
       "          [0.        , 0.        , 0.        , 0.        , 0.        ,\n",
       "           0.        , 0.        , 0.        , 0.        , 0.        ],\n",
       "          [0.        , 0.        , 0.        , 0.        , 0.        ,\n",
       "           0.        , 0.        , 0.        , 0.        , 0.        ]],\n",
       "  \n",
       "         [[0.        , 0.        , 0.        , 0.        , 0.        ,\n",
       "           0.        , 0.        , 0.        , 0.        , 0.        ],\n",
       "          [0.        , 0.        , 0.        , 0.        , 0.        ,\n",
       "           0.        , 0.        , 0.        , 0.        , 0.        ],\n",
       "          [0.        , 0.        , 0.        , 0.        , 0.        ,\n",
       "           0.        , 0.        , 0.        , 0.        , 0.        ],\n",
       "          [0.        , 0.        , 0.        , 0.        , 0.        ,\n",
       "           0.        , 0.        , 0.        , 0.        , 0.        ],\n",
       "          [0.        , 0.        , 0.        , 0.        , 0.        ,\n",
       "           0.        , 0.        , 0.        , 0.        , 0.        ],\n",
       "          [0.        , 0.        , 0.        , 0.        , 0.        ,\n",
       "           0.        , 0.        , 0.        , 0.        , 0.        ]]],\n",
       "        dtype=float32)}}"
      ]
     },
     "execution_count": 217,
     "metadata": {},
     "output_type": "execute_result"
    }
   ],
   "source": [
    "result_dict"
   ]
  },
  {
   "cell_type": "code",
   "execution_count": 224,
   "id": "db27e14c",
   "metadata": {},
   "outputs": [],
   "source": [
    "avg_opt = np.mean(improv_mat, axis=0)"
   ]
  },
  {
   "cell_type": "code",
   "execution_count": 226,
   "id": "c3998fca",
   "metadata": {},
   "outputs": [],
   "source": [
    "budgets = param_dict['budgets']\n",
    "budgets.insert(0,0)"
   ]
  },
  {
   "cell_type": "code",
   "execution_count": 230,
   "id": "bec26627",
   "metadata": {},
   "outputs": [],
   "source": [
    "res_mat = np.vstack([budgets, avg_opt])"
   ]
  },
  {
   "cell_type": "code",
   "execution_count": 233,
   "id": "306ba950",
   "metadata": {},
   "outputs": [
    {
     "name": "stdout",
     "output_type": "stream",
     "text": [
      "Average probability by budget:\n",
      " [[ 0.     1.     2.     3.     4.     5.     6.     7.     8.     9.\n",
      "  10.   ]\n",
      " [ 0.017  0.     0.017  0.     0.     0.     0.     0.     0.     0.\n",
      "   0.   ]]\n"
     ]
    }
   ],
   "source": [
    "np.set_printoptions(precision=3)\n",
    "print(\"Average probability by budget:\\n {}\".format(res_mat))"
   ]
  },
  {
   "cell_type": "code",
   "execution_count": 232,
   "id": "fbd087ed",
   "metadata": {},
   "outputs": [],
   "source": [
    "save_result(result_dict)"
   ]
  },
  {
   "cell_type": "code",
   "execution_count": 240,
   "id": "03db5d5b",
   "metadata": {},
   "outputs": [
    {
     "data": {
      "text/plain": [
       "[0, 1.0, 2.0, 3.0, 4.0, 5.0, 6.0, 7.0, 8.0, 9.0, 10.0]"
      ]
     },
     "execution_count": 240,
     "metadata": {},
     "output_type": "execute_result"
    }
   ],
   "source": [
    "param_dict['budgets']"
   ]
  },
  {
   "cell_type": "code",
   "execution_count": 241,
   "id": "a9aff7d2",
   "metadata": {},
   "outputs": [
    {
     "data": {
      "text/plain": [
       "[0, 1.0, 2.0, 3.0, 4.0, 5.0, 6.0, 7.0, 8.0, 9.0, 10.0]"
      ]
     },
     "execution_count": 241,
     "metadata": {},
     "output_type": "execute_result"
    }
   ],
   "source": [
    "budgets"
   ]
  },
  {
   "cell_type": "code",
   "execution_count": 249,
   "id": "decc0ce0",
   "metadata": {},
   "outputs": [],
   "source": [
    "budgets = param_dict['budgets']\n",
    "budgets.insert(0,0)\n",
    "budget_inputs = []\n",
    "for b in budgets:\n",
    "    budget_inputs.append(copy.deepcopy(inputs))\n",
    "budget_inputs = np.array(budget_inputs)"
   ]
  },
  {
   "cell_type": "code",
   "execution_count": 276,
   "id": "d508ff17",
   "metadata": {},
   "outputs": [
    {
     "data": {
      "text/plain": [
       "(11, 59, 6, 25)"
      ]
     },
     "execution_count": 276,
     "metadata": {},
     "output_type": "execute_result"
    }
   ],
   "source": [
    "budget_inputs.shape"
   ]
  },
  {
   "cell_type": "code",
   "execution_count": 257,
   "id": "c193daa5",
   "metadata": {},
   "outputs": [],
   "source": [
    "x= budget_inputs[:,0]"
   ]
  },
  {
   "cell_type": "code",
   "execution_count": 258,
   "id": "2bcec2f8",
   "metadata": {},
   "outputs": [
    {
     "data": {
      "text/plain": [
       "(6, 25)"
      ]
     },
     "execution_count": 258,
     "metadata": {},
     "output_type": "execute_result"
    }
   ],
   "source": [
    "x[0].shape"
   ]
  },
  {
   "cell_type": "code",
   "execution_count": 263,
   "id": "f91cadec",
   "metadata": {},
   "outputs": [],
   "source": [
    "inv_dat = result_dict[586]\n",
    "idv = 0"
   ]
  },
  {
   "cell_type": "code",
   "execution_count": 266,
   "id": "96512053",
   "metadata": {},
   "outputs": [],
   "source": [
    "xD_ind = data_dict['xD_ind']\n",
    "xI_ind = data_dict['xI_ind']"
   ]
  },
  {
   "cell_type": "code",
   "execution_count": 272,
   "id": "a76449f1",
   "metadata": {},
   "outputs": [
    {
     "ename": "ValueError",
     "evalue": "shape mismatch: value array of shape (11,5,10) could not be broadcast to indexing result of shape (10,11,5)",
     "output_type": "error",
     "traceback": [
      "\u001b[1;31m---------------------------------------------------------------------------\u001b[0m",
      "\u001b[1;31mValueError\u001b[0m                                Traceback (most recent call last)",
      "Cell \u001b[1;32mIn[272], line 1\u001b[0m\n\u001b[1;32m----> 1\u001b[0m budget_inputs[:,idv\u001b[38;5;241m+\u001b[39m\u001b[38;5;241m1\u001b[39m,:\u001b[38;5;241m-\u001b[39m\u001b[38;5;241m1\u001b[39m,xI_ind] \u001b[38;5;241m=\u001b[39m inv_dat[\u001b[38;5;124m'\u001b[39m\u001b[38;5;124mxI\u001b[39m\u001b[38;5;124m'\u001b[39m][:,\u001b[38;5;241m1\u001b[39m:,:]\n\u001b[0;32m      2\u001b[0m budget_inputs[:,idv\u001b[38;5;241m+\u001b[39m\u001b[38;5;241m1\u001b[39m,:\u001b[38;5;241m-\u001b[39m\u001b[38;5;241m1\u001b[39m,xD_ind] \u001b[38;5;241m=\u001b[39m inv_dat[\u001b[38;5;124m'\u001b[39m\u001b[38;5;124mxD\u001b[39m\u001b[38;5;124m'\u001b[39m][:,\u001b[38;5;241m1\u001b[39m:,:]\n",
      "\u001b[1;31mValueError\u001b[0m: shape mismatch: value array of shape (11,5,10) could not be broadcast to indexing result of shape (10,11,5)"
     ]
    }
   ],
   "source": [
    "budget_inputs[:,idv+1,:-1,xI_ind] = inv_dat['xI'][:,1:,:]\n",
    "budget_inputs[:,idv+1,:-1,xD_ind] = inv_dat['xD'][:,1:,:]"
   ]
  },
  {
   "cell_type": "code",
   "execution_count": 269,
   "id": "cc9170d5",
   "metadata": {},
   "outputs": [
    {
     "data": {
      "text/plain": [
       "(10, 11, 5)"
      ]
     },
     "execution_count": 269,
     "metadata": {},
     "output_type": "execute_result"
    }
   ],
   "source": [
    "budget_inputs[:,idv+1,:-1,xI_ind].shape"
   ]
  },
  {
   "cell_type": "code",
   "execution_count": 271,
   "id": "38890c2f",
   "metadata": {},
   "outputs": [
    {
     "data": {
      "text/plain": [
       "(11, 5, 10)"
      ]
     },
     "execution_count": 271,
     "metadata": {},
     "output_type": "execute_result"
    }
   ],
   "source": [
    "inv_dat['xI'][:,1:,:].shape"
   ]
  },
  {
   "cell_type": "code",
   "execution_count": null,
   "id": "6e92c416",
   "metadata": {},
   "outputs": [],
   "source": []
  }
 ],
 "metadata": {
  "kernelspec": {
   "display_name": "Python 3 (ipykernel)",
   "language": "python",
   "name": "python3"
  },
  "language_info": {
   "codemirror_mode": {
    "name": "ipython",
    "version": 3
   },
   "file_extension": ".py",
   "mimetype": "text/x-python",
   "name": "python",
   "nbconvert_exporter": "python",
   "pygments_lexer": "ipython3",
   "version": "3.10.9"
  }
 },
 "nbformat": 4,
 "nbformat_minor": 5
}
